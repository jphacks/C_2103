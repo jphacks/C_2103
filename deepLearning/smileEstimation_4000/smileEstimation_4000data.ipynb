{
  "nbformat": 4,
  "nbformat_minor": 0,
  "metadata": {
    "colab": {
      "name": "smileEstimation_4000data.ipynb",
      "provenance": [],
      "collapsed_sections": []
    },
    "kernelspec": {
      "name": "python3",
      "display_name": "Python 3"
    },
    "language_info": {
      "name": "python"
    }
  },
  "cells": [
    {
      "cell_type": "code",
      "metadata": {
        "colab": {
          "base_uri": "https://localhost:8080/"
        },
        "id": "CDNyvgKPmUwi",
        "outputId": "1e52eeee-9784-4c81-d871-a9127ea41b1f"
      },
      "source": [
        "from google.colab import drive\n",
        "drive.mount('/content/drive')"
      ],
      "execution_count": 1,
      "outputs": [
        {
          "output_type": "stream",
          "name": "stdout",
          "text": [
            "Mounted at /content/drive\n"
          ]
        }
      ]
    },
    {
      "cell_type": "code",
      "metadata": {
        "id": "AaDS-AFNmeuP"
      },
      "source": [
        "import os\n",
        "import keras\n",
        "from keras.preprocessing.image import ImageDataGenerator\n",
        "from keras.models import Sequential, Model\n",
        "from keras.layers import Input, Dense, Dropout, Activation, Flatten,MaxPooling2D,Conv2D\n",
        "from keras import optimizers\n",
        "from tensorflow.keras.optimizers import RMSprop\n",
        "from tensorflow.keras.optimizers import Adam"
      ],
      "execution_count": 10,
      "outputs": []
    },
    {
      "cell_type": "code",
      "metadata": {
        "id": "OQr4afZYoqkG"
      },
      "source": [
        "classes = ['neutral', 'happy']\n",
        "nb_classes = len(classes)\n",
        "batch_size_for_data_generator = 20\n",
        "\n",
        "base_dir = '/content/drive/MyDrive/JPHACKS21/SmileEstimation_Genki/GENKI-4K/sprit_data'\n",
        "\n",
        "train_dir = base_dir+'/train'\n",
        "valid_dir = base_dir+'/validation'\n",
        "\n",
        "# 要調整\n",
        "img_rows, img_cols = 180, 180"
      ],
      "execution_count": 11,
      "outputs": []
    },
    {
      "cell_type": "code",
      "metadata": {
        "id": "TVgFhg4LQ--W",
        "colab": {
          "base_uri": "https://localhost:8080/"
        },
        "outputId": "f18ce54b-3d93-46a9-db97-1d91ed9b6756"
      },
      "source": [
        "train_datagen = ImageDataGenerator(rescale=1.0 / 255,\n",
        "                                   shear_range=0.2,\n",
        "                                   zoom_range=0.2,\n",
        "                                   horizontal_flip=True)\n",
        "train_generator = train_datagen.flow_from_directory(directory=train_dir,\n",
        "                                                    target_size=(img_rows, img_cols),\n",
        "                                                    color_mode='rgb',\n",
        "                                                    classes=classes,\n",
        "                                                    class_mode='categorical',\n",
        "                                                    batch_size=32,\n",
        "                                                    shuffle=True)"
      ],
      "execution_count": 12,
      "outputs": [
        {
          "output_type": "stream",
          "name": "stdout",
          "text": [
            "Found 3199 images belonging to 2 classes.\n"
          ]
        }
      ]
    },
    {
      "cell_type": "code",
      "metadata": {
        "id": "qfdvLiZ1RAKN",
        "colab": {
          "base_uri": "https://localhost:8080/"
        },
        "outputId": "37463e90-1049-43c0-8db0-3789c358da36"
      },
      "source": [
        "test_datagen = ImageDataGenerator(rescale=1.0 / 255)\n",
        "valid_generator = test_datagen.flow_from_directory(directory=valid_dir,\n",
        "                                                   target_size=(img_rows, img_cols),\n",
        "                                                   color_mode='rgb',\n",
        "                                                   classes=classes,\n",
        "                                                   class_mode='categorical',\n",
        "                                                   batch_size=32,\n",
        "                                                   shuffle=True)"
      ],
      "execution_count": 13,
      "outputs": [
        {
          "output_type": "stream",
          "name": "stdout",
          "text": [
            "Found 801 images belonging to 2 classes.\n"
          ]
        }
      ]
    },
    {
      "cell_type": "code",
      "metadata": {
        "id": "L-NMj7q7REi0",
        "colab": {
          "base_uri": "https://localhost:8080/"
        },
        "outputId": "2482e5b7-fa1c-4de6-c34b-7d4314b41819"
      },
      "source": [
        "model=Sequential()\n",
        "# 畳み込み層\n",
        "model.add(Conv2D(32,(3,3),activation='relu',input_shape=(img_rows, img_cols, 3)))\n",
        "model.add(MaxPooling2D((2,2)))\n",
        "\n",
        "model.add(Conv2D(64,(3,3),activation='relu'))\n",
        "model.add(MaxPooling2D((2,2)))\n",
        "\n",
        "model.add(Conv2D(128,(3,3),activation='relu'))\n",
        "model.add(MaxPooling2D((2,2)))\n",
        "\n",
        "model.add(Conv2D(128,(3,3),activation='relu'))\n",
        "model.add(MaxPooling2D((2,2)))\n",
        "\n",
        "# 全結合層\n",
        "model.add(Flatten())\n",
        "model.add(Dense(512,activation='relu'))\n",
        "# 出力層\n",
        "model.add(Dense(nb_classes,activation='softmax'))\n",
        "          \n",
        "model.summary()"
      ],
      "execution_count": 14,
      "outputs": [
        {
          "output_type": "stream",
          "name": "stdout",
          "text": [
            "Model: \"sequential_1\"\n",
            "_________________________________________________________________\n",
            "Layer (type)                 Output Shape              Param #   \n",
            "=================================================================\n",
            "conv2d_4 (Conv2D)            (None, 178, 178, 32)      896       \n",
            "_________________________________________________________________\n",
            "max_pooling2d_4 (MaxPooling2 (None, 89, 89, 32)        0         \n",
            "_________________________________________________________________\n",
            "conv2d_5 (Conv2D)            (None, 87, 87, 64)        18496     \n",
            "_________________________________________________________________\n",
            "max_pooling2d_5 (MaxPooling2 (None, 43, 43, 64)        0         \n",
            "_________________________________________________________________\n",
            "conv2d_6 (Conv2D)            (None, 41, 41, 128)       73856     \n",
            "_________________________________________________________________\n",
            "max_pooling2d_6 (MaxPooling2 (None, 20, 20, 128)       0         \n",
            "_________________________________________________________________\n",
            "conv2d_7 (Conv2D)            (None, 18, 18, 128)       147584    \n",
            "_________________________________________________________________\n",
            "max_pooling2d_7 (MaxPooling2 (None, 9, 9, 128)         0         \n",
            "_________________________________________________________________\n",
            "flatten_1 (Flatten)          (None, 10368)             0         \n",
            "_________________________________________________________________\n",
            "dense_2 (Dense)              (None, 512)               5308928   \n",
            "_________________________________________________________________\n",
            "dense_3 (Dense)              (None, 2)                 1026      \n",
            "=================================================================\n",
            "Total params: 5,550,786\n",
            "Trainable params: 5,550,786\n",
            "Non-trainable params: 0\n",
            "_________________________________________________________________\n"
          ]
        }
      ]
    },
    {
      "cell_type": "code",
      "metadata": {
        "id": "IbRSBaIJRIh6",
        "colab": {
          "base_uri": "https://localhost:8080/"
        },
        "outputId": "f28acfbe-cbb6-4a18-ef89-f457a679ccb2"
      },
      "source": [
        "opt = Adam(lr=0.001, decay=1e-6)\n",
        "model.compile(loss='categorical_crossentropy',\n",
        "              optimizer= opt, \n",
        "              metrics=['acc'])"
      ],
      "execution_count": 15,
      "outputs": [
        {
          "output_type": "stream",
          "name": "stderr",
          "text": [
            "/usr/local/lib/python3.7/dist-packages/keras/optimizer_v2/optimizer_v2.py:356: UserWarning: The `lr` argument is deprecated, use `learning_rate` instead.\n",
            "  \"The `lr` argument is deprecated, use `learning_rate` instead.\")\n"
          ]
        }
      ]
    },
    {
      "cell_type": "code",
      "metadata": {
        "id": "yfIiA4jGRNV9",
        "colab": {
          "base_uri": "https://localhost:8080/"
        },
        "outputId": "53b2dd1a-28e2-4880-fee8-db70d0e6863c"
      },
      "source": [
        "history = model.fit(train_generator,\n",
        "                    steps_per_epoch=99,\n",
        "                    epochs=90,\n",
        "                    validation_data=valid_generator,\n",
        "                    validation_steps=25,\n",
        "                    verbose=1)"
      ],
      "execution_count": 16,
      "outputs": [
        {
          "output_type": "stream",
          "name": "stdout",
          "text": [
            "Epoch 1/5\n",
            "99/99 [==============================] - 1292s 13s/step - loss: 0.6974 - acc: 0.5336 - val_loss: 0.6788 - val_acc: 0.5650\n",
            "Epoch 2/5\n",
            "99/99 [==============================] - 233s 2s/step - loss: 0.6838 - acc: 0.5557 - val_loss: 0.6777 - val_acc: 0.5888\n",
            "Epoch 3/5\n",
            "99/99 [==============================] - 232s 2s/step - loss: 0.6817 - acc: 0.5652 - val_loss: 0.6768 - val_acc: 0.5725\n",
            "Epoch 4/5\n",
            "99/99 [==============================] - 232s 2s/step - loss: 0.6758 - acc: 0.5864 - val_loss: 0.6734 - val_acc: 0.6025\n",
            "Epoch 5/5\n",
            "99/99 [==============================] - 231s 2s/step - loss: 0.6732 - acc: 0.5985 - val_loss: 0.6748 - val_acc: 0.5925\n"
          ]
        }
      ]
    },
    {
      "cell_type": "code",
      "metadata": {
        "id": "TTeHENJ6RUAl"
      },
      "source": [
        "hdf5_file = os.path.join(base_dir, 'smileEstimation_4000data.hdf5')\n",
        "model.save(hdf5_file)"
      ],
      "execution_count": 17,
      "outputs": []
    },
    {
      "cell_type": "code",
      "metadata": {
        "id": "rBh8gPr1RfS3"
      },
      "source": [
        "import matplotlib.pyplot as plt\n",
        "%matplotlib inline"
      ],
      "execution_count": 18,
      "outputs": []
    },
    {
      "cell_type": "code",
      "metadata": {
        "id": "zlqI4F9qR-tB",
        "colab": {
          "base_uri": "https://localhost:8080/",
          "height": 545
        },
        "outputId": "1951c4b2-c22b-4274-ec24-3b069da459be"
      },
      "source": [
        "acc = history.history['acc']\n",
        "val_acc = history.history['val_acc']\n",
        "loss = history.history['loss']\n",
        "val_loss = history.history['val_loss']\n",
        "\n",
        "epochs = range(len(acc))\n",
        "\n",
        "plt.plot(epochs, acc, 'bo', label='Training acc')\n",
        "plt.plot(epochs, val_acc, 'b', label='Validation acc')\n",
        "plt.title('Training and validation accuracy')\n",
        "plt.legend()\n",
        "\n",
        "plt.figure()\n",
        "\n",
        "plt.plot(epochs, loss, 'bo', label='Training loss')\n",
        "plt.plot(epochs, val_loss, 'b', label='Validation loss')\n",
        "plt.title('Training and validation loss')\n",
        "plt.legend()\n",
        "\n",
        "plt.show()"
      ],
      "execution_count": 19,
      "outputs": [
        {
          "output_type": "display_data",
          "data": {
            "image/png": "[encoded data removed]",
            "text/plain": [
              "<Figure size 432x288 with 1 Axes>"
            ]
          },
          "metadata": {
            "needs_background": "light"
          }
        },
        {
          "output_type": "display_data",
          "data": {
            "image/png": "[encoded data removed]",
            "text/plain": [
              "<Figure size 432x288 with 1 Axes>"
            ]
          },
          "metadata": {
            "needs_background": "light"
          }
        }
      ]
    }
  ]
}