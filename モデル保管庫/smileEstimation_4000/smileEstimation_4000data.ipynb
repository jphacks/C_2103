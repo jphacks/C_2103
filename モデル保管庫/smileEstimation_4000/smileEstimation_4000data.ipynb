{
  "nbformat": 4,
  "nbformat_minor": 0,
  "metadata": {
    "colab": {
      "name": "smileEstimation_4000data.ipynb",
      "provenance": [],
      "collapsed_sections": []
    },
    "kernelspec": {
      "name": "python3",
      "display_name": "Python 3"
    },
    "language_info": {
      "name": "python"
    }
  },
  "cells": [
    {
      "cell_type": "code",
      "metadata": {
        "colab": {
          "base_uri": "https://localhost:8080/"
        },
        "id": "CDNyvgKPmUwi",
        "outputId": "8f498a9d-a68a-4168-df51-3190925f4aa4"
      },
      "source": [
        "from google.colab import drive\n",
        "drive.mount('/content/drive')"
      ],
      "execution_count": 1,
      "outputs": [
        {
          "output_type": "stream",
          "name": "stdout",
          "text": [
            "Mounted at /content/drive\n"
          ]
        }
      ]
    },
    {
      "cell_type": "code",
      "metadata": {
        "id": "AaDS-AFNmeuP"
      },
      "source": [
        "import os\n",
        "import keras\n",
        "from keras.preprocessing.image import ImageDataGenerator\n",
        "from keras.models import Sequential, Model\n",
        "from keras.layers import Input, Dense, Dropout, Activation, Flatten,MaxPooling2D,Conv2D\n",
        "from keras import optimizers\n",
        "from tensorflow.keras.optimizers import RMSprop\n",
        "from tensorflow.keras.optimizers import Adam"
      ],
      "execution_count": 2,
      "outputs": []
    },
    {
      "cell_type": "code",
      "metadata": {
        "id": "OQr4afZYoqkG"
      },
      "source": [
        "classes = ['neutral', 'happy']\n",
        "nb_classes = len(classes)\n",
        "batch_size_for_data_generator = 20\n",
        "\n",
        "base_dir = '/content/drive/MyDrive/JPHACKS21/SmileEstimation_Genki/GENKI-4K/sprit_data'\n",
        "\n",
        "train_dir = base_dir+'/train'\n",
        "valid_dir = base_dir+'/validation'\n",
        "\n",
        "# 要調整\n",
        "img_rows, img_cols = 180, 180"
      ],
      "execution_count": 3,
      "outputs": []
    },
    {
      "cell_type": "code",
      "metadata": {
        "id": "TVgFhg4LQ--W",
        "colab": {
          "base_uri": "https://localhost:8080/"
        },
        "outputId": "aa785b2b-ecf1-404b-af37-e6b0afb4fed1"
      },
      "source": [
        "train_datagen = ImageDataGenerator(rescale=1.0 / 255,\n",
        "                                   shear_range=0.2,\n",
        "                                   zoom_range=0.2,\n",
        "                                   horizontal_flip=True)\n",
        "train_generator = train_datagen.flow_from_directory(directory=train_dir,\n",
        "                                                    target_size=(img_rows, img_cols),\n",
        "                                                    color_mode='rgb',\n",
        "                                                    classes=classes,\n",
        "                                                    class_mode='categorical',\n",
        "                                                    batch_size=32,\n",
        "                                                    shuffle=True)"
      ],
      "execution_count": 4,
      "outputs": [
        {
          "output_type": "stream",
          "name": "stdout",
          "text": [
            "Found 3199 images belonging to 2 classes.\n"
          ]
        }
      ]
    },
    {
      "cell_type": "code",
      "metadata": {
        "id": "qfdvLiZ1RAKN",
        "colab": {
          "base_uri": "https://localhost:8080/"
        },
        "outputId": "9563e235-37ce-4d95-b153-3fbb06c5d06a"
      },
      "source": [
        "test_datagen = ImageDataGenerator(rescale=1.0 / 255)\n",
        "valid_generator = test_datagen.flow_from_directory(directory=valid_dir,\n",
        "                                                   target_size=(img_rows, img_cols),\n",
        "                                                   color_mode='rgb',\n",
        "                                                   classes=classes,\n",
        "                                                   class_mode='categorical',\n",
        "                                                   batch_size=32,\n",
        "                                                   shuffle=True)"
      ],
      "execution_count": 5,
      "outputs": [
        {
          "output_type": "stream",
          "name": "stdout",
          "text": [
            "Found 801 images belonging to 2 classes.\n"
          ]
        }
      ]
    },
    {
      "cell_type": "code",
      "metadata": {
        "id": "L-NMj7q7REi0",
        "colab": {
          "base_uri": "https://localhost:8080/"
        },
        "outputId": "d94c47b3-4114-4065-f71d-347dde705a8f"
      },
      "source": [
        "model=Sequential()\n",
        "# 畳み込み層\n",
        "model.add(Conv2D(32,(3,3),activation='relu',input_shape=(img_rows, img_cols, 3)))\n",
        "model.add(MaxPooling2D((2,2)))\n",
        "\n",
        "model.add(Conv2D(64,(3,3),activation='relu'))\n",
        "model.add(MaxPooling2D((2,2)))\n",
        "\n",
        "model.add(Conv2D(128,(3,3),activation='relu'))\n",
        "model.add(MaxPooling2D((2,2)))\n",
        "\n",
        "model.add(Conv2D(128,(3,3),activation='relu'))\n",
        "model.add(MaxPooling2D((2,2)))\n",
        "\n",
        "model.add(Conv2D(128,(3,3),activation='relu'))\n",
        "model.add(MaxPooling2D((2,2)))\n",
        "\n",
        "# 全結合層\n",
        "model.add(Flatten())\n",
        "model.add(Dense(128,activation='relu'))\n",
        "# 出力層\n",
        "model.add(Dense(nb_classes,activation='softmax'))\n",
        "          \n",
        "model.summary()"
      ],
      "execution_count": 6,
      "outputs": [
        {
          "output_type": "stream",
          "name": "stdout",
          "text": [
            "Model: \"sequential\"\n",
            "_________________________________________________________________\n",
            "Layer (type)                 Output Shape              Param #   \n",
            "=================================================================\n",
            "conv2d (Conv2D)              (None, 178, 178, 32)      896       \n",
            "_________________________________________________________________\n",
            "max_pooling2d (MaxPooling2D) (None, 89, 89, 32)        0         \n",
            "_________________________________________________________________\n",
            "conv2d_1 (Conv2D)            (None, 87, 87, 64)        18496     \n",
            "_________________________________________________________________\n",
            "max_pooling2d_1 (MaxPooling2 (None, 43, 43, 64)        0         \n",
            "_________________________________________________________________\n",
            "conv2d_2 (Conv2D)            (None, 41, 41, 128)       73856     \n",
            "_________________________________________________________________\n",
            "max_pooling2d_2 (MaxPooling2 (None, 20, 20, 128)       0         \n",
            "_________________________________________________________________\n",
            "conv2d_3 (Conv2D)            (None, 18, 18, 128)       147584    \n",
            "_________________________________________________________________\n",
            "max_pooling2d_3 (MaxPooling2 (None, 9, 9, 128)         0         \n",
            "_________________________________________________________________\n",
            "conv2d_4 (Conv2D)            (None, 7, 7, 128)         147584    \n",
            "_________________________________________________________________\n",
            "max_pooling2d_4 (MaxPooling2 (None, 3, 3, 128)         0         \n",
            "_________________________________________________________________\n",
            "flatten (Flatten)            (None, 1152)              0         \n",
            "_________________________________________________________________\n",
            "dense (Dense)                (None, 128)               147584    \n",
            "_________________________________________________________________\n",
            "dense_1 (Dense)              (None, 2)                 258       \n",
            "=================================================================\n",
            "Total params: 536,258\n",
            "Trainable params: 536,258\n",
            "Non-trainable params: 0\n",
            "_________________________________________________________________\n"
          ]
        }
      ]
    },
    {
      "cell_type": "code",
      "metadata": {
        "id": "IbRSBaIJRIh6",
        "colab": {
          "base_uri": "https://localhost:8080/"
        },
        "outputId": "5311f379-176a-40de-f72a-27dc4a82dd5b"
      },
      "source": [
        "opt = Adam(lr=0.001, decay=1e-6)\n",
        "model.compile(loss='categorical_crossentropy',\n",
        "              optimizer= opt, \n",
        "              metrics=['acc'])"
      ],
      "execution_count": 7,
      "outputs": [
        {
          "output_type": "stream",
          "name": "stderr",
          "text": [
            "/usr/local/lib/python3.7/dist-packages/keras/optimizer_v2/optimizer_v2.py:356: UserWarning: The `lr` argument is deprecated, use `learning_rate` instead.\n",
            "  \"The `lr` argument is deprecated, use `learning_rate` instead.\")\n"
          ]
        }
      ]
    },
    {
      "cell_type": "code",
      "metadata": {
        "id": "yfIiA4jGRNV9",
        "colab": {
          "base_uri": "https://localhost:8080/"
        },
        "outputId": "9a84b2c3-6396-4d1d-eba5-ca3be5fef4d5"
      },
      "source": [
        "history = model.fit(train_generator,\n",
        "                    steps_per_epoch=99,\n",
        "                    epochs=48,\n",
        "                    validation_data=valid_generator,\n",
        "                    validation_steps=25,\n",
        "                    verbose=1)"
      ],
      "execution_count": 9,
      "outputs": [
        {
          "output_type": "stream",
          "name": "stdout",
          "text": [
            "Epoch 1/48\n",
            "99/99 [==============================] - 1048s 11s/step - loss: 0.6911 - acc: 0.5384 - val_loss: 0.6826 - val_acc: 0.5450\n",
            "Epoch 2/48\n",
            "99/99 [==============================] - 240s 2s/step - loss: 0.6863 - acc: 0.5488 - val_loss: 0.6762 - val_acc: 0.5763\n",
            "Epoch 3/48\n",
            "99/99 [==============================] - 237s 2s/step - loss: 0.6846 - acc: 0.5529 - val_loss: 0.6826 - val_acc: 0.5425\n",
            "Epoch 4/48\n",
            "99/99 [==============================] - 236s 2s/step - loss: 0.6861 - acc: 0.5466 - val_loss: 0.6803 - val_acc: 0.5675\n",
            "Epoch 5/48\n",
            "99/99 [==============================] - 235s 2s/step - loss: 0.6825 - acc: 0.5706 - val_loss: 0.6681 - val_acc: 0.6187\n",
            "Epoch 6/48\n",
            "99/99 [==============================] - 249s 3s/step - loss: 0.6792 - acc: 0.5794 - val_loss: 0.6734 - val_acc: 0.6125\n",
            "Epoch 7/48\n",
            "99/99 [==============================] - 238s 2s/step - loss: 0.6749 - acc: 0.5832 - val_loss: 0.6697 - val_acc: 0.6125\n",
            "Epoch 8/48\n",
            "99/99 [==============================] - 236s 2s/step - loss: 0.6717 - acc: 0.5873 - val_loss: 0.6586 - val_acc: 0.6162\n",
            "Epoch 9/48\n",
            "99/99 [==============================] - 238s 2s/step - loss: 0.6437 - acc: 0.6265 - val_loss: 0.6009 - val_acc: 0.7025\n",
            "Epoch 10/48\n",
            "99/99 [==============================] - 237s 2s/step - loss: 0.5717 - acc: 0.7082 - val_loss: 0.5074 - val_acc: 0.7487\n",
            "Epoch 11/48\n",
            "99/99 [==============================] - 237s 2s/step - loss: 0.5067 - acc: 0.7603 - val_loss: 0.4769 - val_acc: 0.7812\n",
            "Epoch 12/48\n",
            "99/99 [==============================] - 237s 2s/step - loss: 0.4526 - acc: 0.7875 - val_loss: 0.4127 - val_acc: 0.8112\n",
            "Epoch 13/48\n",
            "99/99 [==============================] - 237s 2s/step - loss: 0.4078 - acc: 0.8200 - val_loss: 0.3978 - val_acc: 0.8188\n",
            "Epoch 14/48\n",
            "99/99 [==============================] - 236s 2s/step - loss: 0.3915 - acc: 0.8143 - val_loss: 0.3567 - val_acc: 0.8575\n",
            "Epoch 15/48\n",
            "99/99 [==============================] - 241s 2s/step - loss: 0.3603 - acc: 0.8368 - val_loss: 0.3596 - val_acc: 0.8338\n",
            "Epoch 16/48\n",
            "99/99 [==============================] - 239s 2s/step - loss: 0.3347 - acc: 0.8541 - val_loss: 0.3770 - val_acc: 0.8238\n",
            "Epoch 17/48\n",
            "99/99 [==============================] - 240s 2s/step - loss: 0.3097 - acc: 0.8642 - val_loss: 0.3118 - val_acc: 0.8562\n",
            "Epoch 18/48\n",
            "99/99 [==============================] - 241s 2s/step - loss: 0.3130 - acc: 0.8604 - val_loss: 0.3100 - val_acc: 0.8763\n",
            "Epoch 19/48\n",
            "99/99 [==============================] - 242s 2s/step - loss: 0.2831 - acc: 0.8762 - val_loss: 0.2899 - val_acc: 0.8788\n",
            "Epoch 20/48\n",
            "99/99 [==============================] - 238s 2s/step - loss: 0.2675 - acc: 0.8854 - val_loss: 0.2944 - val_acc: 0.8725\n",
            "Epoch 21/48\n",
            "99/99 [==============================] - 238s 2s/step - loss: 0.2617 - acc: 0.8914 - val_loss: 0.2930 - val_acc: 0.8737\n",
            "Epoch 22/48\n",
            "99/99 [==============================] - 237s 2s/step - loss: 0.2476 - acc: 0.8942 - val_loss: 0.2916 - val_acc: 0.8712\n",
            "Epoch 23/48\n",
            "99/99 [==============================] - 240s 2s/step - loss: 0.2462 - acc: 0.8945 - val_loss: 0.2623 - val_acc: 0.8938\n",
            "Epoch 24/48\n",
            "99/99 [==============================] - 239s 2s/step - loss: 0.2291 - acc: 0.9094 - val_loss: 0.2579 - val_acc: 0.8963\n",
            "Epoch 25/48\n",
            "99/99 [==============================] - 238s 2s/step - loss: 0.2248 - acc: 0.9062 - val_loss: 0.2835 - val_acc: 0.8825\n",
            "Epoch 26/48\n",
            "99/99 [==============================] - 238s 2s/step - loss: 0.2192 - acc: 0.9097 - val_loss: 0.2809 - val_acc: 0.8888\n",
            "Epoch 27/48\n",
            "99/99 [==============================] - 237s 2s/step - loss: 0.2165 - acc: 0.9094 - val_loss: 0.2647 - val_acc: 0.8863\n",
            "Epoch 28/48\n",
            "99/99 [==============================] - 236s 2s/step - loss: 0.2077 - acc: 0.9154 - val_loss: 0.2871 - val_acc: 0.8875\n",
            "Epoch 29/48\n",
            "99/99 [==============================] - 234s 2s/step - loss: 0.1968 - acc: 0.9233 - val_loss: 0.2794 - val_acc: 0.8900\n",
            "Epoch 30/48\n",
            "99/99 [==============================] - 235s 2s/step - loss: 0.2097 - acc: 0.9173 - val_loss: 0.2909 - val_acc: 0.8838\n",
            "Epoch 31/48\n",
            "99/99 [==============================] - 235s 2s/step - loss: 0.1918 - acc: 0.9204 - val_loss: 0.2767 - val_acc: 0.9038\n",
            "Epoch 32/48\n",
            "99/99 [==============================] - 240s 2s/step - loss: 0.1813 - acc: 0.9293 - val_loss: 0.2673 - val_acc: 0.8950\n",
            "Epoch 33/48\n",
            "99/99 [==============================] - 243s 2s/step - loss: 0.1712 - acc: 0.9324 - val_loss: 0.2894 - val_acc: 0.9112\n",
            "Epoch 34/48\n",
            "99/99 [==============================] - 242s 2s/step - loss: 0.1802 - acc: 0.9239 - val_loss: 0.3057 - val_acc: 0.8813\n",
            "Epoch 35/48\n",
            "99/99 [==============================] - 246s 2s/step - loss: 0.1728 - acc: 0.9324 - val_loss: 0.2664 - val_acc: 0.9100\n",
            "Epoch 36/48\n",
            "99/99 [==============================] - 240s 2s/step - loss: 0.1672 - acc: 0.9381 - val_loss: 0.2705 - val_acc: 0.9050\n",
            "Epoch 37/48\n",
            "99/99 [==============================] - 238s 2s/step - loss: 0.1553 - acc: 0.9403 - val_loss: 0.2754 - val_acc: 0.9025\n",
            "Epoch 38/48\n",
            "99/99 [==============================] - 235s 2s/step - loss: 0.1497 - acc: 0.9419 - val_loss: 0.2835 - val_acc: 0.8950\n",
            "Epoch 39/48\n",
            "99/99 [==============================] - 236s 2s/step - loss: 0.1466 - acc: 0.9447 - val_loss: 0.2811 - val_acc: 0.9013\n",
            "Epoch 40/48\n",
            "99/99 [==============================] - 237s 2s/step - loss: 0.1496 - acc: 0.9451 - val_loss: 0.2761 - val_acc: 0.9112\n",
            "Epoch 41/48\n",
            "99/99 [==============================] - 238s 2s/step - loss: 0.1377 - acc: 0.9425 - val_loss: 0.3248 - val_acc: 0.8875\n",
            "Epoch 42/48\n",
            "99/99 [==============================] - 236s 2s/step - loss: 0.1423 - acc: 0.9447 - val_loss: 0.2985 - val_acc: 0.8925\n",
            "Epoch 43/48\n",
            "99/99 [==============================] - 235s 2s/step - loss: 0.1331 - acc: 0.9488 - val_loss: 0.2782 - val_acc: 0.9087\n",
            "Epoch 44/48\n",
            "99/99 [==============================] - 235s 2s/step - loss: 0.1298 - acc: 0.9514 - val_loss: 0.3396 - val_acc: 0.8725\n",
            "Epoch 45/48\n",
            "99/99 [==============================] - 235s 2s/step - loss: 0.1308 - acc: 0.9473 - val_loss: 0.2776 - val_acc: 0.8963\n",
            "Epoch 46/48\n",
            "99/99 [==============================] - 237s 2s/step - loss: 0.1301 - acc: 0.9514 - val_loss: 0.2836 - val_acc: 0.8975\n",
            "Epoch 47/48\n",
            "99/99 [==============================] - 236s 2s/step - loss: 0.1099 - acc: 0.9558 - val_loss: 0.3537 - val_acc: 0.8938\n",
            "Epoch 48/48\n",
            "99/99 [==============================] - 236s 2s/step - loss: 0.1283 - acc: 0.9482 - val_loss: 0.3058 - val_acc: 0.8975\n"
          ]
        }
      ]
    },
    {
      "cell_type": "code",
      "metadata": {
        "id": "TTeHENJ6RUAl"
      },
      "source": [
        "hdf5_file = os.path.join(base_dir, 'smileEstimation_4000data.hdf5')\n",
        "model.save(hdf5_file)"
      ],
      "execution_count": 10,
      "outputs": []
    },
    {
      "cell_type": "code",
      "metadata": {
        "id": "rBh8gPr1RfS3"
      },
      "source": [
        "import matplotlib.pyplot as plt\n",
        "%matplotlib inline"
      ],
      "execution_count": 11,
      "outputs": []
    },
    {
      "cell_type": "code",
      "metadata": {
        "id": "zlqI4F9qR-tB",
        "colab": {
          "base_uri": "https://localhost:8080/",
          "height": 545
        },
        "outputId": "788e065d-7404-40d4-fed1-1b17614af637"
      },
      "source": [
        "acc = history.history['acc']\n",
        "val_acc = history.history['val_acc']\n",
        "loss = history.history['loss']\n",
        "val_loss = history.history['val_loss']\n",
        "\n",
        "epochs = range(len(acc))\n",
        "\n",
        "plt.plot(epochs, acc, 'bo', label='Training acc')\n",
        "plt.plot(epochs, val_acc, 'b', label='Validation acc')\n",
        "plt.title('Training and validation accuracy')\n",
        "plt.legend()\n",
        "\n",
        "plt.figure()\n",
        "\n",
        "plt.plot(epochs, loss, 'bo', label='Training loss')\n",
        "plt.plot(epochs, val_loss, 'b', label='Validation loss')\n",
        "plt.title('Training and validation loss')\n",
        "plt.legend()\n",
        "\n",
        "plt.show()"
      ],
      "execution_count": 12,
      "outputs": [
        {
          "output_type": "display_data",
          "data": {
            "image/png": "[encoded data removed]",
            "text/plain": [
              "<Figure size 432x288 with 1 Axes>"
            ]
          },
          "metadata": {
            "needs_background": "light"
          }
        },
        {
          "output_type": "display_data",
          "data": {
            "image/png": "[encoded data removed]",
            "text/plain": [
              "<Figure size 432x288 with 1 Axes>"
            ]
          },
          "metadata": {
            "needs_background": "light"
          }
        }
      ]
    }
  ]
}